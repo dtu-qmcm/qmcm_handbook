{
  "cells": [
    {
      "cell_type": "markdown",
      "metadata": {},
      "source": [
        "# \n",
        "\n",
        "# Welcome!\n",
        "\n",
        "This handbook aims to make it easier for you to study and work in the\n",
        "Quantitative Modelling of Cell Metabolism group."
      ],
      "id": "b27269cb-3160-4973-99d0-e5a545ea38f6"
    }
  ],
  "nbformat": 4,
  "nbformat_minor": 5,
  "metadata": {
    "kernelspec": {
      "display_name": "Python 3",
      "language": "python",
      "name": "python3"
    }
  }
}