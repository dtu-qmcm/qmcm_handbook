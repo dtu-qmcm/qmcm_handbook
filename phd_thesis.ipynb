{
  "cells": [
    {
      "cell_type": "markdown",
      "metadata": {},
      "source": [
        "# \n",
        "\n",
        "# PhD Thesis information"
      ],
      "id": "333eae5f-d87f-4275-a7b0-be451759e070"
    }
  ],
  "nbformat": 4,
  "nbformat_minor": 5,
  "metadata": {
    "kernelspec": {
      "display_name": "Python 3",
      "language": "python",
      "name": "python3"
    }
  }
}