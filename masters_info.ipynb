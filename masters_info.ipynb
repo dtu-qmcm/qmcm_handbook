{
  "cells": [
    {
      "cell_type": "markdown",
      "metadata": {},
      "source": [
        "# \n",
        "\n",
        "# Information about studying your masters in QMCM"
      ],
      "id": "fbb3246a-252b-413b-8fd2-851beb814bdd"
    }
  ],
  "nbformat": 4,
  "nbformat_minor": 5,
  "metadata": {
    "kernelspec": {
      "display_name": "Python 3",
      "language": "python",
      "name": "python3"
    }
  }
}