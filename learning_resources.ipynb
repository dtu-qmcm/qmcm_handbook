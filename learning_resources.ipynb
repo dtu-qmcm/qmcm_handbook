{
  "cells": [
    {
      "cell_type": "markdown",
      "metadata": {},
      "source": [
        "# \n",
        "\n",
        "# Learning resources"
      ],
      "id": "988b46be-8fc8-4436-91b8-66a5df56e5c6"
    }
  ],
  "nbformat": 4,
  "nbformat_minor": 5,
  "metadata": {
    "kernelspec": {
      "display_name": "Python 3",
      "language": "python",
      "name": "python3"
    }
  }
}