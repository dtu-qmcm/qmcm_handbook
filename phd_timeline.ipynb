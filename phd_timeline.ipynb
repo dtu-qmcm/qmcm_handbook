{
  "cells": [
    {
      "cell_type": "markdown",
      "metadata": {},
      "source": [
        "# \n",
        "\n",
        "# PhD timeline"
      ],
      "id": "a6f9ea1f-e014-4cd2-a526-9a5287bcb152"
    }
  ],
  "nbformat": 4,
  "nbformat_minor": 5,
  "metadata": {
    "kernelspec": {
      "display_name": "Python 3",
      "language": "python",
      "name": "python3"
    }
  }
}